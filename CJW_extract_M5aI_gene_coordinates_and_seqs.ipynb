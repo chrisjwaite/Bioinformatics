{
 "cells": [
  {
   "cell_type": "markdown",
   "metadata": {},
   "source": [
    "# Genome sequence extractor\n",
    "\n",
    "### This script enables extraction of user-defined sequences from Genbank files into a Fasta file\n",
    "\n",
    "### Coded May 2019 for extraction of upstream promoter sequences from all Klebsiella oxytoca gene sequences for downstream analyses\n",
    "\n",
    "#### Dependencies - Bipython module\n",
    "#### Input - Genome file in .gbk format\n",
    "#### Custom parameters - feature type, bounds of sequence extraction, output file destination\n",
    "#### Output - Fasta file containing all extracted sequences and associated feature names\n",
    "\n",
    "\n",
    "\n"
   ]
  },
  {
   "cell_type": "code",
   "execution_count": null,
   "metadata": {
    "collapsed": true,
    "deletable": true,
    "editable": true
   },
   "outputs": [],
   "source": [
    "#Customisable settings\n",
    "\n",
    "# 1. feature type = gene or CDS\n",
    "feature_type = \"gene\"\n",
    "\n",
    "# 2. Bounds of sequence extraction, relative to feature start site\n",
    "upstream = 200\n",
    "dnstream = 30\n",
    "\n",
    "# 3. Output file\n",
    "outpath = ('test.fasta')"
   ]
  },
  {
   "cell_type": "code",
   "execution_count": null,
   "metadata": {
    "collapsed": true,
    "deletable": true,
    "editable": true
   },
   "outputs": [],
   "source": [
    "import sys\n",
    "import Bio\n",
    "from Bio import SeqIO, SeqFeature\n",
    "from Bio.SeqRecord import SeqRecord\n",
    "import os\n",
    "from Bio.Alphabet import IUPAC\n",
    "from Bio.Seq import Seq"
   ]
  },
  {
   "cell_type": "code",
   "execution_count": null,
   "metadata": {
    "collapsed": true,
    "deletable": true,
    "editable": true
   },
   "outputs": [],
   "source": [
    "# Extract m5aI genome record from Genbank\n",
    "recs =[]\n",
    "for rec in SeqIO.parse(open(\"F:\\M5a1 genome\\GBK assemblies\\\\M5A1C_edit.gbk\"), \"genbank\"):\n",
    "    recs.append(rec)\n",
    "    m5ai_genome = recs[0]"
   ]
  },
  {
   "cell_type": "code",
   "execution_count": null,
   "metadata": {
    "collapsed": true,
    "deletable": true,
    "editable": true
   },
   "outputs": [],
   "source": [
    "# Extract gene coordinates and strandedness\n",
    "gene_list = []\n",
    "\n",
    "for feature in m5ai_genome.features:\n",
    "    if feature.type == feature_type:\n",
    "        if \"gene\" in feature.qualifiers:\n",
    "            name = feature.qualifiers[\"gene\"][0]\n",
    "        else:\n",
    "            name = feature.qualifiers[\"locus_tag\"][0]\n",
    "        mystart = feature.location._start.position\n",
    "        myend = feature.location._end.position\n",
    "        gene_list.append((name, mystart,myend,feature.strand))\n"
   ]
  },
  {
   "cell_type": "code",
   "execution_count": null,
   "metadata": {
    "collapsed": true,
    "deletable": true,
    "editable": true
   },
   "outputs": [],
   "source": [
    "# Calculate and extract desired sequence info\n",
    "extracted_records = []\n",
    "\n",
    "for g in gene_list:\n",
    "    if g[3] == 1:\n",
    "        seq = m5ai_genome.seq[(g[1]-upstream):(g[1]+dnstream)]\n",
    "    elif g[3] == -1:\n",
    "        seq = m5ai_genome.seq[(g[2]-dnstream):(g[2]+upstream)]\n",
    "        seq = seq.reverse_complement()\n",
    "    id\n",
    "    extracted_records.append((g[0],seq))"
   ]
  },
  {
   "cell_type": "code",
   "execution_count": null,
   "metadata": {
    "collapsed": false,
    "deletable": true,
    "editable": true
   },
   "outputs": [],
   "source": [
    "# Output extracted sequences and ids as a fasta\n",
    "delim_records = []\n",
    "for e in extracted_records:\n",
    "    record = SeqRecord(Seq(str(e[1]), IUPAC.unambiguous_dna),id=e[0], name=e[0], description=\"\")\n",
    "    delim_records.append(record)\n",
    "\n",
    "    \n",
    "    \n",
    "SeqIO.write(delim_records, open(outpath,\"w\"), \"fasta\")\n"
   ]
  },
  {
   "cell_type": "markdown",
   "metadata": {
    "deletable": true,
    "editable": true
   },
   "source": [
    "## Gene statistics (count, strandedness)"
   ]
  },
  {
   "cell_type": "code",
   "execution_count": null,
   "metadata": {
    "collapsed": false,
    "deletable": true,
    "editable": true
   },
   "outputs": [],
   "source": [
    "# Count genes and CDS features in GBK\n",
    "gene_count = 0\n",
    "cds_count = 0\n",
    "other_count = 0\n",
    "\n",
    "for feature in m5ai_genome.features:\n",
    "    if feature.type == \"gene\":\n",
    "        gene_count += 1\n",
    "    if feature.type == \"CDS\":\n",
    "        cds_count += 1\n",
    "    else:\n",
    "        other_count +=1\n",
    "\n",
    "print(\"Genes = \" + str(gene_count))\n",
    "print(\"CDS = \" + str(cds_count))\n",
    "print(\"Other = \" + str(other_count))"
   ]
  },
  {
   "cell_type": "code",
   "execution_count": null,
   "metadata": {
    "collapsed": false,
    "deletable": true,
    "editable": true
   },
   "outputs": [],
   "source": [
    "# Count strandedness of genes\n",
    "plus_count = 0\n",
    "minus_count = 0\n",
    "no_strand = 0\n",
    "\n",
    "\n",
    "for feature in m5ai_genome.features:\n",
    "    if feature.type == 'gene':\n",
    "        if feature.strand == -1:\n",
    "            minus_count += 1\n",
    "        elif feature.strand == 1:\n",
    "            plus_count += 1\n",
    "        else:\n",
    "            no_strand += 1\n",
    "            \n",
    "print(str(plus_count))\n",
    "print(str(minus_count))\n",
    "print(str(no_strand)) "
   ]
  },
  {
   "cell_type": "code",
   "execution_count": null,
   "metadata": {
    "collapsed": true,
    "deletable": true,
    "editable": true
   },
   "outputs": [],
   "source": []
  }
 ],
 "metadata": {
  "kernelspec": {
   "display_name": "Python 2",
   "language": "python",
   "name": "python2"
  },
  "language_info": {
   "codemirror_mode": {
    "name": "ipython",
    "version": 3
   },
   "file_extension": ".py",
   "mimetype": "text/x-python",
   "name": "python",
   "nbconvert_exporter": "python",
   "pygments_lexer": "ipython3",
   "version": "3.7.1"
  }
 },
 "nbformat": 4,
 "nbformat_minor": 2
}
